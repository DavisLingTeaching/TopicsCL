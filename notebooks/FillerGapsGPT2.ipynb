{
  "cells": [
    {
      "cell_type": "markdown",
      "metadata": {
        "id": "Im8QmbyWncKH"
      },
      "source": [
        "# Filler-Gap Dependencies with GPT-2 (English)\n",
        "\n",
        "Created Feburary 2023 by [Forrest Davis](https://conf.ling.cornell.edu/forrestdavis/). Get in touch if you have any questions!\n",
        "\n",
        "The following colab script attempts to replicate some of the experiments in [Wilcox et al. (2022)](https://direct.mit.edu/ling/article/doi/10.1162/ling_a_00491/113304/Using-Computational-Models-to-Test-Syntactic) with materials I can find from their other projects. If you've never used colab before, [here](https://colab.research.google.com) is a nice introductory document. It links to this, sort of unsettling, [video](https://www.youtube.com/watch?v=inN8seMm7UI).  \n",
        "\n",
        "What's critical for this notebook is running code. You can run code by hovering over \"code blocks\" and pressing the play button to the left. \n",
        "\n"
      ]
    },
    {
      "cell_type": "code",
      "execution_count": null,
      "metadata": {
        "colab": {
          "base_uri": "https://localhost:8080/"
        },
        "id": "kehY8fgjoxO0",
        "outputId": "4862075f-db22-4f12-f3f3-0f48d5ad6a79"
      },
      "outputs": [
        {
          "name": "stdout",
          "output_type": "stream",
          "text": [
            "hello\n"
          ]
        }
      ],
      "source": [
        "# Push the play button to the left\n",
        "print('hello')"
      ]
    },
    {
      "cell_type": "markdown",
      "metadata": {
        "id": "A985Cem13abC"
      },
      "source": [
        "# Setting up\n",
        "\n",
        "The code blocks in this section do the following: \n",
        "\n",
        "1. Install the necessary packages\n",
        "2. Import the libraries\n",
        "3. Clone the data repo I made\n",
        "3. Clone a repo I made for evaluating models\n",
        "4. Move into the evaluation git repo"
      ]
    },
    {
      "cell_type": "code",
      "execution_count": 110,
      "metadata": {
        "colab": {
          "base_uri": "https://localhost:8080/"
        },
        "id": "IAY7b5-hel-6",
        "outputId": "1578fd92-6149-45c4-e40e-2751e69e8902"
      },
      "outputs": [
        {
          "output_type": "stream",
          "name": "stdout",
          "text": [
            "Exception ignored in: <function _get_module_lock.<locals>.cb at 0x7f06c6c893a0>\n",
            "Traceback (most recent call last):\n",
            "  File \"<frozen importlib._bootstrap>\", line 176, in cb\n",
            "KeyboardInterrupt: \n",
            "Traceback (most recent call last):\n",
            "  File \"/usr/local/bin/pip3\", line 5, in <module>\n",
            "    from pip._internal.cli.main import main\n",
            "  File \"/usr/local/lib/python3.8/dist-packages/pip/_internal/cli/main.py\", line 9, in <module>\n",
            "    from pip._internal.cli.autocompletion import autocomplete\n",
            "  File \"/usr/local/lib/python3.8/dist-packages/pip/_internal/cli/autocompletion.py\", line 12, in <module>\n",
            "    from pip._internal.metadata import get_default_environment\n",
            "  File \"/usr/local/lib/python3.8/dist-packages/pip/_internal/metadata/__init__.py\", line 3, in <module>\n",
            "    from .base import BaseDistribution, BaseEnvironment, FilesystemWheel, MemoryWheel, Wheel\n",
            "  File \"/usr/local/lib/python3.8/dist-packages/pip/_internal/metadata/base.py\", line 21, in <module>\n",
            "    from pip._vendor.packaging.requirements import Requirement\n",
            "  File \"/usr/local/lib/python3.8/dist-packages/pip/_vendor/packaging/requirements.py\", line 10, in <module>\n",
            "    from pip._vendor.pyparsing import (  # noqa\n",
            "  File \"/usr/local/lib/python3.8/dist-packages/pip/_vendor/pyparsing/__init__.py\", line 146, in <module>\n",
            "    from .common import (\n",
            "  File \"/usr/local/lib/python3.8/dist-packages/pip/_vendor/pyparsing/common.py\", line 8, in <module>\n",
            "    class pyparsing_common:\n",
            "  File \"/usr/local/lib/python3.8/dist-packages/pip/_vendor/pyparsing/common.py\", line 213, in pyparsing_common\n",
            "    Regex(r\"[+-]?\\d+\\.?\\d*([eE][+-]?\\d+)?\")\n",
            "  File \"/usr/local/lib/python3.8/dist-packages/pip/_vendor/pyparsing/core.py\", line 2933, in __init__\n",
            "    self.re = re.compile(self.pattern, self.flags)\n",
            "  File \"/usr/lib/python3.8/re.py\", line 252, in compile\n",
            "    return _compile(pattern, flags)\n",
            "  File \"/usr/lib/python3.8/re.py\", line 304, in _compile\n",
            "    p = sre_compile.compile(pattern, flags)\n",
            "  File \"/usr/lib/python3.8/sre_compile.py\", line 768, in compile\n",
            "    code = _code(p, flags)\n",
            "  File \"/usr/lib/python3.8/sre_compile.py\", line 607, in _code\n",
            "    _compile(code, p.data, flags)\n",
            "  File \"/usr/lib/python3.8/sre_compile.py\", line 90, in _compile\n",
            "    for op, av in pattern:\n",
            "KeyboardInterrupt\n",
            "^C\n",
            "Looking in indexes: https://pypi.org/simple, https://us-python.pkg.dev/colab-wheels/public/simple/\n",
            "Requirement already satisfied: datasets in /usr/local/lib/python3.8/dist-packages (2.9.0)\n",
            "Requirement already satisfied: multiprocess in /usr/local/lib/python3.8/dist-packages (from datasets) (0.70.14)\n",
            "Requirement already satisfied: fsspec[http]>=2021.11.1 in /usr/local/lib/python3.8/dist-packages (from datasets) (2023.1.0)\n",
            "Requirement already satisfied: tqdm>=4.62.1 in /usr/local/lib/python3.8/dist-packages (from datasets) (4.64.1)\n",
            "Requirement already satisfied: pyyaml>=5.1 in /usr/local/lib/python3.8/dist-packages (from datasets) (6.0)\n",
            "Requirement already satisfied: aiohttp in /usr/local/lib/python3.8/dist-packages (from datasets) (3.8.3)\n",
            "Requirement already satisfied: responses<0.19 in /usr/local/lib/python3.8/dist-packages (from datasets) (0.18.0)\n",
            "Requirement already satisfied: requests>=2.19.0 in /usr/local/lib/python3.8/dist-packages (from datasets) (2.25.1)\n",
            "Requirement already satisfied: huggingface-hub<1.0.0,>=0.2.0 in /usr/local/lib/python3.8/dist-packages (from datasets) (0.12.0)\n",
            "Requirement already satisfied: pandas in /usr/local/lib/python3.8/dist-packages (from datasets) (1.3.5)\n",
            "Requirement already satisfied: xxhash in /usr/local/lib/python3.8/dist-packages (from datasets) (3.2.0)\n",
            "Requirement already satisfied: pyarrow>=6.0.0 in /usr/local/lib/python3.8/dist-packages (from datasets) (9.0.0)\n",
            "Requirement already satisfied: numpy>=1.17 in /usr/local/lib/python3.8/dist-packages (from datasets) (1.21.6)\n",
            "Requirement already satisfied: packaging in /usr/local/lib/python3.8/dist-packages (from datasets) (23.0)\n",
            "Requirement already satisfied: dill<0.3.7 in /usr/local/lib/python3.8/dist-packages (from datasets) (0.3.6)\n",
            "Requirement already satisfied: charset-normalizer<3.0,>=2.0 in /usr/local/lib/python3.8/dist-packages (from aiohttp->datasets) (2.1.1)\n",
            "Requirement already satisfied: attrs>=17.3.0 in /usr/local/lib/python3.8/dist-packages (from aiohttp->datasets) (22.2.0)\n",
            "Requirement already satisfied: yarl<2.0,>=1.0 in /usr/local/lib/python3.8/dist-packages (from aiohttp->datasets) (1.8.2)\n",
            "Requirement already satisfied: frozenlist>=1.1.1 in /usr/local/lib/python3.8/dist-packages (from aiohttp->datasets) (1.3.3)\n",
            "Requirement already satisfied: aiosignal>=1.1.2 in /usr/local/lib/python3.8/dist-packages (from aiohttp->datasets) (1.3.1)\n",
            "Requirement already satisfied: multidict<7.0,>=4.5 in /usr/local/lib/python3.8/dist-packages (from aiohttp->datasets) (6.0.4)\n",
            "Requirement already satisfied: async-timeout<5.0,>=4.0.0a3 in /usr/local/lib/python3.8/dist-packages (from aiohttp->datasets) (4.0.2)\n",
            "Requirement already satisfied: typing-extensions>=3.7.4.3 in /usr/local/lib/python3.8/dist-packages (from huggingface-hub<1.0.0,>=0.2.0->datasets) (4.4.0)\n",
            "Requirement already satisfied: filelock in /usr/local/lib/python3.8/dist-packages (from huggingface-hub<1.0.0,>=0.2.0->datasets) (3.9.0)\n",
            "Requirement already satisfied: certifi>=2017.4.17 in /usr/local/lib/python3.8/dist-packages (from requests>=2.19.0->datasets) (2022.12.7)\n",
            "Requirement already satisfied: idna<3,>=2.5 in /usr/local/lib/python3.8/dist-packages (from requests>=2.19.0->datasets) (2.10)\n",
            "Requirement already satisfied: urllib3<1.27,>=1.21.1 in /usr/local/lib/python3.8/dist-packages (from requests>=2.19.0->datasets) (1.26.14)\n",
            "Requirement already satisfied: chardet<5,>=3.0.2 in /usr/local/lib/python3.8/dist-packages (from requests>=2.19.0->datasets) (4.0.0)\n",
            "Requirement already satisfied: pytz>=2017.3 in /usr/local/lib/python3.8/dist-packages (from pandas->datasets) (2022.7.1)\n",
            "Requirement already satisfied: python-dateutil>=2.7.3 in /usr/local/lib/python3.8/dist-packages (from pandas->datasets) (2.8.2)\n",
            "Requirement already satisfied: six>=1.5 in /usr/local/lib/python3.8/dist-packages (from python-dateutil>=2.7.3->pandas->datasets) (1.15.0)\n",
            "\u001b[31mERROR: Operation cancelled by user\u001b[0m\u001b[31m\n",
            "\u001b[0mLooking in indexes: https://pypi.org/simple, https://us-python.pkg.dev/colab-wheels/public/simple/\n",
            "Requirement already satisfied: sentencepiece in /usr/local/lib/python3.8/dist-packages (0.1.97)\n",
            "\u001b[31mERROR: Operation cancelled by user\u001b[0m\u001b[31m\n",
            "\u001b[0m"
          ]
        }
      ],
      "source": [
        "!pip install transformers\n",
        "!pip install datasets\n",
        "!pip install sentencepiece"
      ]
    },
    {
      "cell_type": "code",
      "execution_count": 111,
      "metadata": {
        "id": "BHM5_lxmer0m"
      },
      "outputs": [],
      "source": [
        "import transformers\n",
        "import torch\n",
        "import pandas as pd\n",
        "import sentencepiece"
      ]
    },
    {
      "cell_type": "code",
      "execution_count": 112,
      "metadata": {
        "colab": {
          "base_uri": "https://localhost:8080/"
        },
        "id": "31EOsl4Ddd-V",
        "outputId": "5315888c-7d17-436c-a78e-01bb34629bf8"
      },
      "outputs": [
        {
          "output_type": "stream",
          "name": "stdout",
          "text": [
            "fatal: destination path 'TopicsCL' already exists and is not an empty directory.\n",
            "fatal: destination path 'PublicModelsAPI' already exists and is not an empty directory.\n",
            "/content/PublicModelsAPI\n"
          ]
        }
      ],
      "source": [
        "# Clone my data repo\n",
        "!git clone https://github.com/DavisLingTeaching/TopicsCL.git\n",
        "# Clone the evaluation repo\n",
        "!git clone https://github.com/forrestdavis/PublicModelsAPI.git"
      ]
    },
    {
      "cell_type": "markdown",
      "metadata": {
        "id": "EmPlUKlKHrHY"
      },
      "source": [
        "# Basic Licensing\n",
        "\n",
        "The paper explores three syntactic frames initially:\n",
        "\n",
        "1. Subject gaps \n",
        "2. Object gaps\n",
        "3. Prepositional phrase gaps\n",
        "\n",
        "I could not find their data, so instead I drew on a paper which cites another paper of theirs. Namely, [Hu et al. (2020)](https://www.aclweb.org/anthology/2020.acl-main.158). The data are similar, though there are less and the sentences from their paper are not in it."
      ]
    },
    {
      "cell_type": "code",
      "source": [
        "#@title Basic Code\n",
        "def getBasic(modelType='gpt2', modelName='gpt2'):\n",
        "    # set path\n",
        "    import sys\n",
        "    import json\n",
        "    sys.path.append(\"/content/PublicModelsAPI/\")\n",
        "    from src.models import models\n",
        "\n",
        "    run_config = {'models': {modelType: [modelName]}}\n",
        "\n",
        "    LM = models.load_models(run_config)[0]\n",
        "    \n",
        "    RESULTS = {'exp': [], 'item': [], 'cond': [], \"wh-effect\":[]}\n",
        "\n",
        "    # Subject gap\n",
        "    data = pd.read_csv(\"/content/TopicsCL/data/Wilcox/fgd_subject.csv\")\n",
        "\n",
        "    #fill in nans\n",
        "    data.fillna('', inplace=True)\n",
        "\n",
        "    conditions = list(set(data['condition_name'].tolist()))\n",
        "    # [(3;%what_nogap%) > (3;%that_nogap%) ] & \n",
        "    # [(4;%what_gap%) < (4;%that_gap%)]\n",
        "    for index in range(1, max(data['item_number'])+1):\n",
        "        vals = {}\n",
        "        subset = data[data['item_number'] == index]\n",
        "\n",
        "        for cond in conditions:\n",
        "\n",
        "            targetRegion = 4\n",
        "            if '_nogap' in cond:\n",
        "                targetRegion= 3\n",
        "\n",
        "            sentData = subset[subset['condition_name'] == cond]\n",
        "            words = sentData['content'].tolist()\n",
        "            regions = sentData['region_number'].tolist()\n",
        "            assert len(words) == len(regions)\n",
        "            regions = list(zip(regions, words))\n",
        "            sent = ' '.join(words).replace('  ', ' ')\n",
        "            # Get by word surprisals\n",
        "            surps = LM.get_aligned_words_surprisals(sent)[0]\n",
        "            \n",
        "            # Group into regions\n",
        "            total = 0\n",
        "            for region in regions:\n",
        "                r, words = region\n",
        "                if words == '':\n",
        "                    continue\n",
        "                for word in words.split(' '):\n",
        "                    surp = surps.pop(0)\n",
        "                    assert surp.word == word\n",
        "                    if r == targetRegion:\n",
        "                        total += surp.surp\n",
        "            vals[cond] = total\n",
        "\n",
        "        gap_wh_effect = vals['what_gap'] - vals['that_gap']\n",
        "        nogap_wh_effect = vals['what_nogap'] - vals['that_nogap']\n",
        "\n",
        "        RESULTS['item'].append(index)\n",
        "        RESULTS['item'].append(index)\n",
        "\n",
        "        RESULTS['exp'].append('subject')\n",
        "        RESULTS['exp'].append('subject')\n",
        "\n",
        "        RESULTS['cond'].append('+gap')\n",
        "        RESULTS['cond'].append('-gap')\n",
        "\n",
        "        RESULTS['wh-effect'].append(gap_wh_effect)\n",
        "        RESULTS['wh-effect'].append(nogap_wh_effect)\n",
        "\n",
        "    # object gap\n",
        "    data = pd.read_csv(\"/content/TopicsCL/data/Wilcox/fgd_object.csv\")\n",
        "\n",
        "    #fill in nans\n",
        "    data.fillna('', inplace=True)\n",
        "\n",
        "    conditions = list(set(data['condition_name'].tolist()))\n",
        "\n",
        "    # [(5;%what_nogap%) > (5;%that_nogap%) ] & \n",
        "    # [(6;%what_gap%) < (6;%that_gap%) ] \n",
        "    for index in range(1, max(data['item_number'])+1):\n",
        "        vals = {}\n",
        "        subset = data[data['item_number'] == index]\n",
        "\n",
        "        for cond in conditions:\n",
        "\n",
        "            targetRegion = 6\n",
        "            if '_nogap' in cond:\n",
        "                targetRegion= 5\n",
        "\n",
        "            sentData = subset[subset['condition_name'] == cond]\n",
        "            words = sentData['content'].tolist()\n",
        "            regions = sentData['region_number'].tolist()\n",
        "            assert len(words) == len(regions)\n",
        "            regions = list(zip(regions, words))\n",
        "            sent = ' '.join(words).replace('  ', ' ')\n",
        "            # Get by word surprisals\n",
        "            surps = LM.get_aligned_words_surprisals(sent)[0]\n",
        "            \n",
        "            # Group into regions\n",
        "            total = 0\n",
        "            for region in regions:\n",
        "                r, words = region\n",
        "                if words == '':\n",
        "                    continue\n",
        "                for word in words.split(' '):\n",
        "                    surp = surps.pop(0)\n",
        "                    assert surp.word == word\n",
        "                    if r == targetRegion:\n",
        "                        total += surp.surp\n",
        "            vals[cond] = total\n",
        "\n",
        "        gap_wh_effect = vals['what_gap'] - vals['that_gap']\n",
        "        nogap_wh_effect = vals['what_nogap'] - vals['that_nogap']\n",
        "\n",
        "        RESULTS['item'].append(index)\n",
        "        RESULTS['item'].append(index)\n",
        "\n",
        "        RESULTS['exp'].append('object')\n",
        "        RESULTS['exp'].append('object')\n",
        "\n",
        "        RESULTS['cond'].append('+gap')\n",
        "        RESULTS['cond'].append('-gap')\n",
        "\n",
        "        RESULTS['wh-effect'].append(gap_wh_effect)\n",
        "        RESULTS['wh-effect'].append(nogap_wh_effect)\n",
        "\n",
        "    # pp gap\n",
        "    data = pd.read_csv(\"/content/TopicsCL/data/Wilcox/fgd_pp.csv\")\n",
        "\n",
        "    #fill in nans\n",
        "    data.fillna('', inplace=True)\n",
        "\n",
        "    conditions = list(set(data['condition_name'].tolist()))\n",
        "\n",
        "    # [(7;%what_nogap%) > (7;%that_nogap%) ] & \n",
        "    # [(8;%what_gap%) < (8;%that_gap%) ]\n",
        "    for index in range(1, max(data['item_number'])+1):\n",
        "        vals = {}\n",
        "        subset = data[data['item_number'] == index]\n",
        "\n",
        "        for cond in conditions:\n",
        "\n",
        "            targetRegion = 8\n",
        "            if '_nogap' in cond:\n",
        "                targetRegion= 7\n",
        "\n",
        "            sentData = subset[subset['condition_name'] == cond]\n",
        "            words = sentData['content'].tolist()\n",
        "            regions = sentData['region_number'].tolist()\n",
        "            assert len(words) == len(regions)\n",
        "            regions = list(zip(regions, words))\n",
        "            sent = ' '.join(words).replace('  ', ' ')\n",
        "            # Get by word surprisals\n",
        "            surps = LM.get_aligned_words_surprisals(sent)[0]\n",
        "            \n",
        "            # Group into regions\n",
        "            total = 0\n",
        "            for region in regions:\n",
        "                r, words = region\n",
        "                if words == '':\n",
        "                    continue\n",
        "                for word in words.split(' '):\n",
        "                    surp = surps.pop(0)\n",
        "                    assert surp.word == word\n",
        "                    if r == targetRegion:\n",
        "                        total += surp.surp\n",
        "            vals[cond] = total\n",
        "\n",
        "        gap_wh_effect = vals['what_gap'] - vals['that_gap']\n",
        "        nogap_wh_effect = vals['what_nogap'] - vals['that_nogap']\n",
        "\n",
        "        RESULTS['item'].append(index)\n",
        "        RESULTS['item'].append(index)\n",
        "\n",
        "        RESULTS['exp'].append('pp')\n",
        "        RESULTS['exp'].append('pp')\n",
        "\n",
        "        RESULTS['cond'].append('+gap')\n",
        "        RESULTS['cond'].append('-gap')\n",
        "\n",
        "        RESULTS['wh-effect'].append(gap_wh_effect)\n",
        "        RESULTS['wh-effect'].append(nogap_wh_effect)\n",
        "    return pd.DataFrame.from_dict(RESULTS)"
      ],
      "metadata": {
        "cellView": "form",
        "id": "qy9_1nHHPTZ3"
      },
      "execution_count": 108,
      "outputs": []
    },
    {
      "cell_type": "code",
      "source": [
        "#@title Plot Basic Results\n",
        "def plotBasic(results):\n",
        "    \n",
        "    import seaborn as sns\n",
        "    import matplotlib.pyplot as plt\n",
        "\n",
        "    %matplotlib inline\n",
        "\n",
        "    sns.set(style='whitegrid', color_codes=True)\n",
        "\n",
        "    basicPlot = sns.barplot(data=results, \n",
        "                            x = 'exp', \n",
        "                            y = 'wh-effect', \n",
        "                            hue = 'cond', \n",
        "                            ci=95,\n",
        "                            palette=['lightblue', 'lightsalmon'])\n",
        "    basicPlot.set(ylim=(-8, 8))\n",
        "    basicPlot.set(xlabel=\"Gap Location\", ylabel='Wh-Effect', \n",
        "                title=\"Basic Filler-Gap Licensing\")\n",
        "\n",
        "    basicPlot.legend(title='')\n",
        "\n",
        "    plt.show()\n"
      ],
      "metadata": {
        "cellView": "form",
        "id": "GUkNm3sy74sm"
      },
      "execution_count": 54,
      "outputs": []
    },
    {
      "cell_type": "code",
      "source": [
        "# Get results\n",
        "basicResults = getBasic()\n",
        "plotBasic(basicResults)"
      ],
      "metadata": {
        "id": "89AYILm2CbQM"
      },
      "execution_count": null,
      "outputs": []
    },
    {
      "cell_type": "markdown",
      "source": [
        "# Hierarchy\n",
        "\n",
        "Here I draw on the data included in the repo for [Wilcox et al. (2019)](https://cogsci.mindmodeling.org/2019/papers/0219/). The core contrast is similar to that detailed in the other paper. Focusing on subject islands and asking if the models capture the c-command relationship between the filler and the gap. "
      ],
      "metadata": {
        "id": "RTjKFo0mC14D"
      }
    },
    {
      "cell_type": "code",
      "source": [
        "#@title Hierarchy Code\n",
        "def getHierarchy(modelType='gpt2', modelName='gpt2'):\n",
        "    # set path\n",
        "    import sys\n",
        "    import json\n",
        "    sys.path.append(\"/content/PublicModelsAPI/\")\n",
        "    from src.models import models\n",
        "\n",
        "    run_config = {'models': {modelType: [modelName]}}\n",
        "\n",
        "    LM = models.load_models(run_config)[0]\n",
        "    \n",
        "    RESULTS = {'exp': [], 'item': [], 'cond': [], \"wh-effect\":[]}\n",
        "\n",
        "    data = pd.read_csv(\"/content/TopicsCL/data/Wilcox/hierarchy.tsv\", sep='\\t')\n",
        "\n",
        "    conditions = list(set(data['condition'].tolist()))\n",
        "\n",
        "    # no-gap object region\n",
        "    # gap temporal_modifier region\n",
        "    for index in range(max(data['sent_index'])+1):\n",
        "        vals = {}\n",
        "        subset = data[data['sent_index'] == index]\n",
        "\n",
        "        for cond in conditions:\n",
        "\n",
        "            if 'no-gap' in cond and 'matrix' in cond:\n",
        "                targetRegion = 'matrix_gap'\n",
        "            elif 'no-gap' in cond and 'subj' in cond:\n",
        "                targetRegion = 'subject_gap'\n",
        "            elif '_gap' in cond and 'matrix' in cond:\n",
        "                targetRegion = 'continuation'\n",
        "            else:\n",
        "                targetRegion = 'filler'\n",
        "\n",
        "            sentData = subset[subset['condition'] == cond]\n",
        "\n",
        "            words = sentData['word'].tolist()\n",
        "            regions = sentData['region'].tolist()\n",
        "            assert len(words) == len(regions)\n",
        "            regions = list(zip(regions, words))\n",
        "\n",
        "            sent = ' '.join(words)\n",
        "\n",
        "            # Get by word surprisals\n",
        "            surps = LM.get_aligned_words_surprisals(sent)[0]\n",
        "            \n",
        "            # Group into regions\n",
        "            total = 0\n",
        "            for region in regions:\n",
        "                r, w = region\n",
        "                surp = surps.pop(0)\n",
        "                assert surp.word == w\n",
        "                if r == targetRegion:\n",
        "                    total += surp.surp\n",
        "            vals[cond] = total\n",
        "        #calculate wh-effects\n",
        "        gap_wh_effect_subj = vals['what_gap_subj'] - vals['that_gap_subj']\n",
        "        nogap_wh_effect_subj = vals['what_no-gap_subj'] - vals['that_no-gap_subj']\n",
        "\n",
        "        gap_wh_effect_matrix = vals['what_gap_matrix'] - vals['that_gap_matrix']\n",
        "        nogap_wh_effect_matrix = vals['what_no-gap_matrix'] - vals['that_no-gap_matrix']\n",
        "\n",
        "        RESULTS['item'].extend([index]*4)\n",
        "\n",
        "\n",
        "        RESULTS['exp'].extend(['subj', 'subj', 'matrix', 'matrix'])\n",
        "\n",
        "        RESULTS['cond'].extend(['+gap', '-gap']*2)\n",
        "\n",
        "        RESULTS['wh-effect'].append(gap_wh_effect_subj)\n",
        "        RESULTS['wh-effect'].append(nogap_wh_effect_subj)\n",
        "\n",
        "        RESULTS['wh-effect'].append(gap_wh_effect_matrix)\n",
        "        RESULTS['wh-effect'].append(nogap_wh_effect_matrix)\n",
        "\n",
        "    return pd.DataFrame.from_dict(RESULTS)\n"
      ],
      "metadata": {
        "cellView": "form",
        "id": "c22Xx9gXVrod"
      },
      "execution_count": 134,
      "outputs": []
    },
    {
      "cell_type": "code",
      "source": [
        "#@title Plot Hierarchy Results  \n",
        "def plotHierarchy(results):\n",
        "    \n",
        "    import seaborn as sns\n",
        "    import matplotlib.pyplot as plt\n",
        "\n",
        "    %matplotlib inline\n",
        "\n",
        "    sns.set(style='whitegrid', color_codes=True)\n",
        "\n",
        "    basicPlot = sns.barplot(data=results, \n",
        "                            x = 'exp', \n",
        "                            y = 'wh-effect', \n",
        "                            hue = 'cond', \n",
        "                            ci=95,\n",
        "                            palette=['lightblue', 'lightsalmon'])\n",
        "    basicPlot.set(ylim=(-8, 8))\n",
        "    basicPlot.set(xlabel=\"Gap Location\", ylabel='Wh-Effect', \n",
        "                title=\"Hierarchy Filler-Gap Licensing\")\n",
        "\n",
        "    basicPlot.legend(title='')\n",
        "\n",
        "    plt.show()\n"
      ],
      "metadata": {
        "cellView": "form",
        "id": "vFHv_l1hdueF"
      },
      "execution_count": 131,
      "outputs": []
    },
    {
      "cell_type": "code",
      "source": [
        "hierarchyResults = getHierarchy()\n",
        "plotHierarchy(hierarchyResults)"
      ],
      "metadata": {
        "colab": {
          "base_uri": "https://localhost:8080/",
          "height": 356
        },
        "id": "pHBXr8qReAxd",
        "outputId": "8b6028ef-2614-41d4-9468-c2f3e5386991"
      },
      "execution_count": 135,
      "outputs": [
        {
          "output_type": "stream",
          "name": "stderr",
          "text": [
            "Running on cpu\n",
            "Using pad_token, but it is not set yet.\n",
            "Pad token was set\n"
          ]
        },
        {
          "output_type": "display_data",
          "data": {
            "text/plain": [
              "<Figure size 432x288 with 1 Axes>"
            ],
            "image/png": "[encoded data removed]"
          },
          "metadata": {}
        }
      ]
    },
    {
      "cell_type": "markdown",
      "source": [
        "# Unboundedness\n",
        "\n",
        "I draw on the experiments detailed in [Wilcox et al. (2019)](https://cogsci.mindmodeling.org/2019/papers/0219/), which like the other paper, explored the relationship between syntactic depth and their wh-effect. "
      ],
      "metadata": {
        "id": "tWDxlTDYC969"
      }
    },
    {
      "cell_type": "code",
      "source": [
        "#@title Unbounded Code\n",
        "def getUnbounded(modelType='gpt2', modelName='gpt2'):\n",
        "    # set path\n",
        "    import sys\n",
        "    import json\n",
        "    sys.path.append(\"/content/PublicModelsAPI/\")\n",
        "    from src.models import models\n",
        "\n",
        "    run_config = {'models': {modelType: [modelName]}}\n",
        "\n",
        "    LM = models.load_models(run_config)[0]\n",
        "    \n",
        "    RESULTS = {'exp': [], 'item': [], 'cond': [], \"wh-effect\":[]}\n",
        "\n",
        "    data = pd.read_csv(\"/content/TopicsCL/data/Wilcox/unbounded.tsv\", sep='\\t')\n",
        "\n",
        "    # Filter out extra condition\n",
        "    conditions = list(set(data['condition'].tolist()))\n",
        "    goals = list(filter(lambda x: 'goal' in x, conditions))\n",
        "    conditions = list(filter(lambda x: 'goal' not in x, conditions))\n",
        "\n",
        "    data = data[~data.condition.isin(goals)]\n",
        "\n",
        "    # no-gap object region\n",
        "    # gap temporal_modifier region\n",
        "    for index in range(21):\n",
        "        vals = {}\n",
        "        subset = data[data['sent_index'] == index]\n",
        "        for cond in conditions:\n",
        "\n",
        "            targetRegion = 'temporal_modifier'\n",
        "            if 'no-gap' in cond:\n",
        "                targetRegion='object'\n",
        "            sentData = subset[subset['condition'] == cond]\n",
        "            words = sentData['word'].tolist()\n",
        "            regions = sentData['region'].tolist()\n",
        "            assert len(words) == len(regions)\n",
        "            regions = list(zip(regions, words))\n",
        "\n",
        "            sent = ' '.join(words)\n",
        "\n",
        "            # Get by word surprisals\n",
        "            surps = LM.get_aligned_words_surprisals(sent)[0]\n",
        "            \n",
        "            # Group into regions\n",
        "            total = 0\n",
        "            for region in regions:\n",
        "                r, w = region\n",
        "                surp = surps.pop(0)\n",
        "                assert surp.word == w\n",
        "                if r == targetRegion:\n",
        "                    total += surp.surp\n",
        "            vals[cond] = total\n",
        "\n",
        "        #calculate wh-effects\n",
        "        gap_wh_effect_noemb = vals['wh_gap_obj_no-emb'] - vals['that_gap_obj_no-emb']\n",
        "        nogap_wh_effect_noemb = vals['wh_no-gap_obj_no-emb'] - vals['that_no-gap_obj_no-emb']\n",
        "\n",
        "        gap_wh_effect_emb1 = vals['wh_gap_obj_emb1'] - vals['that_gap_obj_emb1']\n",
        "        nogap_wh_effect_emb1 = vals['wh_no-gap_obj_emb1'] - vals['that_no-gap_obj_emb1']\n",
        "\n",
        "        gap_wh_effect_emb2 = vals['wh_gap_obj_emb2'] - vals['that_gap_obj_emb2']\n",
        "        nogap_wh_effect_emb2 = vals['wh_no-gap_obj_emb2'] - vals['that_no-gap_obj_emb2']\n",
        "\n",
        "        gap_wh_effect_emb3 = vals['wh_gap_obj_emb3'] - vals['that_gap_obj_emb3']\n",
        "        nogap_wh_effect_emb3 = vals['wh_no-gap_obj_emb3'] - vals['that_no-gap_obj_emb3']\n",
        "\n",
        "        gap_wh_effect_emb4 = vals['wh_gap_obj_emb4'] - vals['that_gap_obj_emb4']\n",
        "        nogap_wh_effect_emb4 = vals['wh_no-gap_obj_emb4'] - vals['that_no-gap_obj_emb4']\n",
        "\n",
        "\n",
        "        RESULTS['item'].extend([index]*10)\n",
        "\n",
        "\n",
        "        RESULTS['exp'].extend([0,0,1,1,2,2,3,3,4,4])\n",
        "\n",
        "        RESULTS['cond'].extend(['+gap', '-gap']*5)\n",
        "\n",
        "        RESULTS['wh-effect'].append(gap_wh_effect_noemb)\n",
        "        RESULTS['wh-effect'].append(nogap_wh_effect_noemb)\n",
        "\n",
        "        RESULTS['wh-effect'].append(gap_wh_effect_emb1)\n",
        "        RESULTS['wh-effect'].append(nogap_wh_effect_emb1)\n",
        "\n",
        "        RESULTS['wh-effect'].append(gap_wh_effect_emb2)\n",
        "        RESULTS['wh-effect'].append(nogap_wh_effect_emb2)\n",
        "\n",
        "        RESULTS['wh-effect'].append(gap_wh_effect_emb3)\n",
        "        RESULTS['wh-effect'].append(nogap_wh_effect_emb3)\n",
        "\n",
        "        RESULTS['wh-effect'].append(gap_wh_effect_emb4)\n",
        "        RESULTS['wh-effect'].append(nogap_wh_effect_emb4)\n",
        "\n",
        "    return pd.DataFrame.from_dict(RESULTS)\n"
      ],
      "metadata": {
        "cellView": "form",
        "id": "UZzZTVQwFCIa"
      },
      "execution_count": 85,
      "outputs": []
    },
    {
      "cell_type": "code",
      "source": [
        "#@title Plot Unbounded Results\n",
        "def plotUnbounded(results):\n",
        "    \n",
        "    import seaborn as sns\n",
        "    import matplotlib.pyplot as plt\n",
        "\n",
        "    %matplotlib inline\n",
        "\n",
        "    sns.set(style='whitegrid', color_codes=True)\n",
        "\n",
        "    basicPlot = sns.barplot(data=results, \n",
        "                            x = 'exp', \n",
        "                            y = 'wh-effect', \n",
        "                            hue = 'cond', \n",
        "                            ci=95,\n",
        "                            palette=['lightblue', 'lightsalmon'])\n",
        "    basicPlot.set(ylim=(-8, 8))\n",
        "    basicPlot.set(xlabel=\"Layers of Embedding\", ylabel='Wh-Effect', \n",
        "                title=\"Unbounded Filler-Gap Licensing\")\n",
        "\n",
        "    basicPlot.legend(title='')\n",
        "\n",
        "    plt.show()"
      ],
      "metadata": {
        "cellView": "form",
        "id": "V8Q_L6spFuzO"
      },
      "execution_count": 83,
      "outputs": []
    },
    {
      "cell_type": "code",
      "source": [
        "unboundedResults = getUnbounded()\n",
        "plotUnbounded(unboundedResults)"
      ],
      "metadata": {
        "colab": {
          "base_uri": "https://localhost:8080/",
          "height": 356
        },
        "id": "VyO4R49PFBEy",
        "outputId": "c439807f-8d04-44ac-c03a-a3e64234ea1a"
      },
      "execution_count": 86,
      "outputs": [
        {
          "output_type": "stream",
          "name": "stderr",
          "text": [
            "Running on cpu\n",
            "Using pad_token, but it is not set yet.\n",
            "Pad token was set\n"
          ]
        },
        {
          "output_type": "display_data",
          "data": {
            "text/plain": [
              "<Figure size 432x288 with 1 Axes>"
            ],
            "image/png": "[encoded data removed]"
          },
          "metadata": {}
        }
      ]
    }
  ],
  "metadata": {
    "colab": {
      "collapsed_sections": [
        "A985Cem13abC",
        "EmPlUKlKHrHY",
        "RTjKFo0mC14D",
        "tWDxlTDYC969"
      ],
      "provenance": []
    },
    "gpuClass": "standard",
    "kernelspec": {
      "display_name": "Python 3",
      "name": "python3"
    },
    "language_info": {
      "name": "python"
    }
  },
  "nbformat": 4,
  "nbformat_minor": 0
}